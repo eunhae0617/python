{
 "cells": [
  {
   "cell_type": "code",
   "execution_count": 9,
   "id": "132cae61",
   "metadata": {},
   "outputs": [],
   "source": [
    "import requests\n",
    "from bs4 import BeautifulSoup\n",
    "import pymysql\n",
    "from  selenium import webdriver as wd\n",
    "from selenium.webdriver.common.keys import Keys\n",
    "import time as time\n",
    "import getpass\n",
    "import urllib.request\n",
    "import random\n",
    "from time import sleep\n",
    "import pandas as pd\n",
    "import numpy as np\n",
    "import matplotlib.pyplot as plt\n",
    "%matplotlib inline\n",
    "\n",
    "browser = webdriver.Chrome(\"d:/chromedriver.exe\")\n",
    "browser.get(\"https://nid.naver.com/nidlogin.login?url=http%3A%2F%2Fmail.naver.com%2F\")\n",
    "\n",
    "naver_id = \"\"\n",
    "naver_pw = \"\" \n",
    "\n",
    "browser.execute_script(\"document.getElementsByName('id')[0].value=\\'\"+naver_id+\"\\'\")\n",
    "time.sleep(1)\n",
    "browser.execute_script(\"document.getElementsByName('pw')[0].value=\\'\"+naver_pw+\"\\'\")\n",
    "time.sleep(1)\n",
    "browser.find_element_by_css_selector('#log\\.login').click()\n",
    "time.sleep(2)\n",
    "browser.find_element_by_css_selector('#new\\.dontsave').click()\n",
    "time.sleep(2)\n",
    "\n",
    "time.sleep(1)\n",
    "\n",
    "\n"
   ]
  },
  {
   "cell_type": "code",
   "execution_count": null,
   "id": "7abe6b64",
   "metadata": {},
   "outputs": [],
   "source": []
  }
 ],
 "metadata": {
  "kernelspec": {
   "display_name": "Python 3",
   "language": "python",
   "name": "python3"
  },
  "language_info": {
   "codemirror_mode": {
    "name": "ipython",
    "version": 3
   },
   "file_extension": ".py",
   "mimetype": "text/x-python",
   "name": "python",
   "nbconvert_exporter": "python",
   "pygments_lexer": "ipython3",
   "version": "3.8.8"
  }
 },
 "nbformat": 4,
 "nbformat_minor": 5
}
