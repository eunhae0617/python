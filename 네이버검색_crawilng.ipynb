{
 "cells": [
  {
   "cell_type": "code",
   "execution_count": 3,
   "id": "282814e9",
   "metadata": {},
   "outputs": [
    {
     "name": "stdout",
     "output_type": "stream",
     "text": [
      "검색어를 입력하세요 : 코로나 백신\n",
      "완료 !\n"
     ]
    }
   ],
   "source": [
    "import csv\n",
    "import ssl \n",
    "from urllib.request import urlopen \n",
    "from urllib.parse import quote_plus \n",
    "from bs4 import BeautifulSoup \n",
    "\n",
    "context = ssl._create_unverified_context() \n",
    "\n",
    "#api_txt_lines total_tit \n",
    "\n",
    "search = input(\"검색어를 입력하세요 : \") \n",
    "url = 'https://m.search.naver.com/search.naver?where=m_view&sm=mtb_jum&query=%' \n",
    "newUrl = url + quote_plus(search) \n",
    "\n",
    "html = urlopen(newUrl, context=context).read() \n",
    "soup = BeautifulSoup(html,'html.parser') \n",
    "\n",
    "total = soup.select('.api_txt_lines.total_tit') #아까 내용이 있던거 싹 가져오기 \n",
    "searchList = [] \n",
    "\n",
    "for i in total : \n",
    "    temp =[] \n",
    "    temp.append(i.text) \n",
    "    temp.append(i.attrs['href']) \n",
    "    searchList.append(temp) #list 안에 list 가 들어가는 형태 \n",
    "\n",
    "f = open(f'{search}.csv','w',encoding='utf-8',newline='') #파일오픈 \n",
    "csvWriter = csv.writer(f)#열어둔 파일 \n",
    "for i in searchList: \n",
    "    csvWriter.writerow(i) \n",
    "\n",
    "\n",
    "f.close() \n",
    "print(\"완료 !\")"
   ]
  },
  {
   "cell_type": "code",
   "execution_count": 4,
   "id": "a4d7a504",
   "metadata": {},
   "outputs": [
    {
     "data": {
      "text/plain": [
       "[['오늘일기 : 코로나백신 1차 접종 (화이자) 맞던 날',\n",
       "  'https://m.blog.naver.com/teaser1/222505695736'],\n",
       " ['화이자1차 접종 후기_코로나백신 접종', 'https://m.blog.naver.com/junioryj/222508888175'],\n",
       " ['모더나 백신 1차 접종 후기 / 코로나19 백신 후기 / 화이자 부작용',\n",
       "  'https://m.blog.naver.com/shinhye_02/222509300167'],\n",
       " ['[코로나백신] 화이자2차 접종후기. 귀통증. 몸살증상. 생리중.부정출혈. 병원변경.',\n",
       "  'https://m.blog.naver.com/reenaday/222510208722'],\n",
       " ['코로나 백신 접종 1차 완료! 화이자 2차 예약 변경 했지요~',\n",
       "  'https://m.blog.naver.com/cherrypuddin/222502192928'],\n",
       " ['코로나 백신 접종 2차 예약 변경 안내!', 'https://m.cafe.naver.com/schoolch/1314004'],\n",
       " ['\"남자 청소년, 코로나 입원보다 화이자 부작용 훨씬 커\" ft.사망자 855명(9.11)',\n",
       "  'https://m.post.naver.com/viewer/postView.naver?volumeNo=32361824&memberNo=183666&vType=VERTICAL'],\n",
       " ['코로나백신 예방접종 화이자 1차 후기', 'https://m.blog.naver.com/unilove012/222503503262'],\n",
       " ['코로나 백신 예약 확인, 예약변경 및 취소 방법 정리해드림',\n",
       "  'https://m.cafe.naver.com/dokchi/11270610'],\n",
       " ['코로나 백신 맞기 전과 후, 알레르기 약 항히스타민제 먹어도 될까요?',\n",
       "  'https://m.post.naver.com/viewer/postView.naver?volumeNo=32194559&memberNo=42793013&vType=VERTICAL'],\n",
       " ['코로나 백신 화이자 접종 - 김해 율하체육관', 'https://m.blog.naver.com/kongsam/222507516718'],\n",
       " ['슬하편지 - 정신건강의학과 약을 먹고 있는데 코로나 백신을 맞아도 되나요?',\n",
       "  'https://m.post.naver.com/viewer/postView.naver?volumeNo=32189235&memberNo=23841638&vType=VERTICAL'],\n",
       " ['코로나 백신 권고사항', 'https://m.cafe.naver.com/bimmerwerks/651487'],\n",
       " ['코로나 백신 화이자 2차 접종 후기(4주 간격)',\n",
       "  'https://m.blog.naver.com/junjin63/222509981294'],\n",
       " ['코로나 백신 접종 후 샤워? 운동? 커피? 주의사항 및 후유증 체크리스트',\n",
       "  'https://m.post.naver.com/viewer/postView.naver?volumeNo=32268922&memberNo=45408110&vType=VERTICAL'],\n",
       " ['코로나 백신을 강제한다고 하는데', 'https://m.cafe.naver.com/andyhug/1989020'],\n",
       " ['걱정되는 코로나 백신 부작용! 적절한 대처 방법은?',\n",
       "  'https://m.blog.naver.com/tsu_star/222500134412'],\n",
       " ['코로나백신접종증명서 인증서 할인혜택과 잔여백신예약 알아보기',\n",
       "  'https://m.post.naver.com/viewer/postView.naver?volumeNo=32119339&memberNo=42297178&vType=VERTICAL'],\n",
       " ['화이자 1차 후기 코로나 백신접종 후 24시간 증상 +부작용',\n",
       "  'https://m.blog.naver.com/oocc333/222506981369'],\n",
       " ['코로나19 백신 예방접종 화이자 1차 완료, 심장통증 / 가슴통증 ㅜㅜ',\n",
       "  'https://m.blog.naver.com/eun9471/222507499172'],\n",
       " ['코로나 백신이 끝이 아니다, 맞아야 할 예방백신은?',\n",
       "  'https://m.post.naver.com/viewer/postView.naver?volumeNo=32135348&memberNo=15460571&vType=VERTICAL'],\n",
       " ['코로나백신휴가 ㅠㅠ', 'https://m.cafe.naver.com/dongtanmom/5464715'],\n",
       " ['코로나 백신 모더나 1차 시간대별 증상 후기 및 백신 주의 사항',\n",
       "  'https://m.blog.naver.com/soojinkim043/222508618122'],\n",
       " ['코로나 백신 접종 전 꼭 알아둘 사항은?',\n",
       "  'https://m.post.naver.com/viewer/postView.nhn?volumeNo=31907739&memberNo=3551273&vType=VERTICAL'],\n",
       " ['코로나 백신 예약 확인 방법 알고 계신가요??', 'https://m.cafe.naver.com/specup/6773891'],\n",
       " ['코로나백신 화이자2차 접종 후기 ( 대전동구국민센터 ) 백신2차접종 부작용',\n",
       "  'https://m.blog.naver.com/rlawndud1541/222509905293'],\n",
       " ['코로나19 백신 접종 후 이상반응 있을 때 대처요령',\n",
       "  'https://m.post.naver.com/viewer/postView.naver?volumeNo=32251811&memberNo=44444045&vType=VERTICAL'],\n",
       " ['코로나백신 고민이에요ㅜㅜ', 'https://m.cafe.naver.com/2005mam/1409347'],\n",
       " ['코로나 백신 2차 접종 예약 날짜 장소 변경 방법',\n",
       "  'https://m.blog.naver.com/dysnomia/222509931067'],\n",
       " ['코로나 백신 80% 접종률, 위드코로나 전환', 'https://m.cafe.naver.com/musicalnote1/375618']]"
      ]
     },
     "execution_count": 4,
     "metadata": {},
     "output_type": "execute_result"
    }
   ],
   "source": [
    "searchList"
   ]
  },
  {
   "cell_type": "code",
   "execution_count": null,
   "id": "57d97911",
   "metadata": {},
   "outputs": [],
   "source": []
  }
 ],
 "metadata": {
  "kernelspec": {
   "display_name": "Python 3",
   "language": "python",
   "name": "python3"
  },
  "language_info": {
   "codemirror_mode": {
    "name": "ipython",
    "version": 3
   },
   "file_extension": ".py",
   "mimetype": "text/x-python",
   "name": "python",
   "nbconvert_exporter": "python",
   "pygments_lexer": "ipython3",
   "version": "3.8.8"
  }
 },
 "nbformat": 4,
 "nbformat_minor": 5
}
